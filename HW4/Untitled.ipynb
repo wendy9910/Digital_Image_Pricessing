{
 "cells": [
  {
   "cell_type": "code",
   "execution_count": 4,
   "id": "e3659496",
   "metadata": {},
   "outputs": [],
   "source": [
    "import cv2\n",
    "import numpy as np\n",
    "from PIL import Image, ImageTk\n",
    "import tkinter as tk"
   ]
  },
  {
   "cell_type": "code",
   "execution_count": 2,
   "id": "fa47c8f9",
   "metadata": {},
   "outputs": [],
   "source": [
    "def define_layout(obj, cols=1, rows=1):\n",
    "\n",
    "    def method(trg, col, row):\n",
    "\n",
    "        for c in range(cols):\n",
    "            trg.columnconfigure(c, weight=1)\n",
    "        for r in range(rows):\n",
    "            trg.rowconfigure(r, weight=1)\n",
    "\n",
    "    if type(obj) == list:\n",
    "        [method(trg, cols, rows) for trg in obj]\n",
    "    else:\n",
    "        trg = obj\n",
    "        method(trg, cols, rows)"
   ]
  },
  {
   "cell_type": "code",
   "execution_count": 22,
   "id": "5e96aa06",
   "metadata": {},
   "outputs": [],
   "source": [
    "def callback(e,image_main):\n",
    "    x0 = e.x\n",
    "    y0 = e.y\n",
    "    print(\"Down at %d, %d\" % (x0, y0))\n",
    "    \n",
    "def callback2(e):\n",
    "    x = e.x\n",
    "    y = e.y\n",
    "    mousestate = 1\n",
    "    print(\"up at %d, %d\" % (x, y))\n",
    "    ROI()\n"
   ]
  },
  {
   "cell_type": "code",
   "execution_count": 20,
   "id": "3c33f1f5",
   "metadata": {},
   "outputs": [],
   "source": [
    "def ROI():\n",
    "    print('%d,%d,%d,%d'%(x0,y0,x,y))"
   ]
  },
  {
   "cell_type": "code",
   "execution_count": 23,
   "id": "4e8218d1",
   "metadata": {},
   "outputs": [
    {
     "name": "stdout",
     "output_type": "stream",
     "text": [
      "200\n"
     ]
    },
    {
     "ename": "TypeError",
     "evalue": "callback() missing 1 required positional argument: 'image_main'",
     "output_type": "error",
     "traceback": [
      "\u001b[1;31m---------------------------------------------------------------------------\u001b[0m",
      "\u001b[1;31mTypeError\u001b[0m                                 Traceback (most recent call last)",
      "\u001b[1;32m~\\AppData\\Local\\Temp/ipykernel_23200/1999327856.py\u001b[0m in \u001b[0;36m<module>\u001b[1;34m\u001b[0m\n\u001b[0;32m     56\u001b[0m \u001b[0mdefine_layout\u001b[0m\u001b[1;33m(\u001b[0m\u001b[0mdiv3\u001b[0m\u001b[1;33m,\u001b[0m \u001b[0mrows\u001b[0m\u001b[1;33m=\u001b[0m\u001b[1;36m4\u001b[0m\u001b[1;33m)\u001b[0m\u001b[1;33m\u001b[0m\u001b[1;33m\u001b[0m\u001b[0m\n\u001b[0;32m     57\u001b[0m \u001b[1;33m\u001b[0m\u001b[0m\n\u001b[1;32m---> 58\u001b[1;33m \u001b[0mimage_main\u001b[0m\u001b[1;33m.\u001b[0m\u001b[0mbind\u001b[0m\u001b[1;33m(\u001b[0m\u001b[1;34m'<Button-1>'\u001b[0m\u001b[1;33m,\u001b[0m \u001b[0mcallback\u001b[0m\u001b[1;33m(\u001b[0m\u001b[0mimage_main\u001b[0m\u001b[1;33m)\u001b[0m\u001b[1;33m)\u001b[0m\u001b[1;33m\u001b[0m\u001b[1;33m\u001b[0m\u001b[0m\n\u001b[0m\u001b[0;32m     59\u001b[0m \u001b[1;31m#image_main.bind('<ButtonRelease-1>', callback2)\u001b[0m\u001b[1;33m\u001b[0m\u001b[1;33m\u001b[0m\u001b[1;33m\u001b[0m\u001b[0m\n\u001b[0;32m     60\u001b[0m \u001b[1;33m\u001b[0m\u001b[0m\n",
      "\u001b[1;31mTypeError\u001b[0m: callback() missing 1 required positional argument: 'image_main'"
     ]
    }
   ],
   "source": [
    "window = tk.Tk()\n",
    "window.title('tool')\n",
    "align_mode = 'nswe'\n",
    "pad = 5\n",
    "file_path = 'C:/Users/88691/數位影像處理/HW/HW3/monet2.jpg'\n",
    "\n",
    "#功能狀態設定 截取、旋轉、放大、縮小\n",
    "state = 0 \n",
    "global mousestate,x0,y0,x,y\n",
    "mousestate=x0=y0=x=y=0\n",
    "\n",
    "\n",
    "div_size = 200\n",
    "img_size = div_size * 2\n",
    "div1 = tk.Frame(window, width=img_size, height=img_size, bg='blue')\n",
    "div2 = tk.Frame(window, width=div_size, height=div_size, bg='orange')\n",
    "div3 = tk.Frame(window, width=div_size, height=div_size, bg='green')\n",
    "\n",
    "window.update()\n",
    "win_size = min(window.winfo_width(), window.winfo_height())\n",
    "print(win_size)\n",
    "\n",
    "div1.grid(column=0, row=0, padx=pad, pady=pad, rowspan=2, sticky=align_mode)\n",
    "div2.grid(column=1, row=0, padx=pad, pady=pad, sticky=align_mode)\n",
    "div3.grid(column=1, row=1, padx=pad, pady=pad, sticky=align_mode)\n",
    "\n",
    "define_layout(window, cols=2, rows=2)\n",
    "define_layout([div1, div2, div3])\n",
    "\n",
    "im = Image.open(file_path)\n",
    "imTK = ImageTk.PhotoImage(im.resize((img_size, img_size)))\n",
    "\n",
    "image_main = tk.Label(div1, image=imTK)\n",
    "image_main['height'] = img_size\n",
    "image_main['width'] = img_size\n",
    "\n",
    "image_main.grid(column=0, row=0, sticky=align_mode)\n",
    "\n",
    "import_btn = tk.Button(div2, text='開啟檔案', bg='#FFD2D2', fg='black')\n",
    "save_btn = tk.Button(div2, text=\"儲存檔案\", bg='#FFD2D2', fg='black')\n",
    "import_btn.grid(column=0, row=0, sticky=align_mode)\n",
    "save_btn.grid(column=0, row=1, sticky=align_mode)\n",
    "\n",
    "bt1 = tk.Button(div3, text='Button 1', bg='#FFB5B5', fg='black')\n",
    "bt2 = tk.Button(div3, text='Button 2', bg='#FFB5B5', fg='black')\n",
    "bt3 = tk.Button(div3, text='Button 3', bg='#FFB5B5', fg='black')\n",
    "bt4 = tk.Button(div3, text='Button 4', bg='#FFB5B5', fg='black')\n",
    "bt1.grid(column=0, row=0, sticky=align_mode)\n",
    "bt2.grid(column=0, row=1, sticky=align_mode)\n",
    "bt3.grid(column=0, row=2, sticky=align_mode)\n",
    "bt4.grid(column=0, row=3, sticky=align_mode)\n",
    "\n",
    "define_layout(window, cols=2, rows=2)\n",
    "define_layout(div1)\n",
    "define_layout(div2, rows=2)\n",
    "define_layout(div3, rows=4)\n",
    "\n",
    "image_main.bind('<Button-1>', callback)\n",
    "#image_main.bind('<ButtonRelease-1>', callback2)\n",
    "\n",
    "\n",
    "\n",
    "\n",
    "window.mainloop()"
   ]
  },
  {
   "cell_type": "code",
   "execution_count": null,
   "id": "dc219fd0",
   "metadata": {},
   "outputs": [],
   "source": []
  }
 ],
 "metadata": {
  "kernelspec": {
   "display_name": "Python 3 (ipykernel)",
   "language": "python",
   "name": "python3"
  },
  "language_info": {
   "codemirror_mode": {
    "name": "ipython",
    "version": 3
   },
   "file_extension": ".py",
   "mimetype": "text/x-python",
   "name": "python",
   "nbconvert_exporter": "python",
   "pygments_lexer": "ipython3",
   "version": "3.7.11"
  }
 },
 "nbformat": 4,
 "nbformat_minor": 5
}
