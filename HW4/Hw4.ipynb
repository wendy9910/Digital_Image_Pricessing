{
 "cells": [
  {
   "cell_type": "code",
   "execution_count": 1,
   "id": "b1d12c9c",
   "metadata": {},
   "outputs": [],
   "source": [
    "import cv2\n",
    "import numpy as np"
   ]
  },
  {
   "cell_type": "code",
   "execution_count": 58,
   "id": "6a77335d",
   "metadata": {},
   "outputs": [],
   "source": [
    "def ROI_Fuc(g):\n",
    "    #ROI擷取\n",
    "    ROI_x,ROI_y = eval(input(\"Enter(x,y)for ROI:\"))\n",
    "    ROI_nr,ROI_nc = eval(input(\"Enter(rows,columns)for ROI:\"))\n",
    "    ROI = g[ROI_x:ROI_x+ROI_nr,ROI_y:ROI_y+ROI_nc]\n",
    "    cv2.imwrite(\"ROI.bmp\",ROI)\n",
    "    return ROI\n",
    "    \n",
    "def Scale_Fuc(g):\n",
    "    #維持外觀比例:放大 * ... & 縮小 * 0....\n",
    "    value = 1\n",
    "    String_state = input(\"輸入:放大or縮小\")\n",
    "    value = eval(input(\"輸入:放大/縮小幾倍\"))\n",
    "       \n",
    "    r,c = g.shape[:2]\n",
    "    nr,nc = r,c\n",
    "    if String_state == '放大':\n",
    "        nr,nc = int(r*value),int(c*value)\n",
    "    else:\n",
    "        nr,nc = int(r//value),int(c//value)\n",
    "    #interpolation = INTER_NEAREST 、 INTER_LINEAR 、 INTER_CUBIC 、 INTER_AREA ......\n",
    "    Myimg = cv2.resize(g,(nr,nc),interpolation = cv2.INTER_CUBIC)       \n",
    "    return Myimg\n",
    "\n",
    "def Rotate_Fuc(g):\n",
    "    #左右旋轉90度、旋轉180度、垂直翻轉、水平翻轉\n",
    "    String_state = input(\"輸入:旋轉or垂直翻轉or水平翻轉\")\n",
    "    value = 0\n",
    "    r,c = g.shape[:2]\n",
    "    if String_state == '旋轉':\n",
    "        value = eval(input(\"輸入角度:\"))\n",
    "        rotate_M = cv2.getRotationMatrix2D((r/2,c/2),value,1)\n",
    "        Myimg = cv2.warpAffine(g,rotate_M,(r,c))\n",
    "    elif String_state == '垂直翻轉':\n",
    "        Myimg = cv2.flip(g,0)\n",
    "    elif String_state == '水平翻轉':\n",
    "        Myimg = cv2.flip(g,1)\n",
    "    return Myimg\n",
    "        \n",
    "\n",
    "def Affine_Fuc(g):\n",
    "    #扭曲度\n",
    "    #仿射轉換\n",
    "    r,c = g.shape[:2]\n",
    "    pts1 = np.float32([[0,r-1],[c-1,r-1],[0,0]])\n",
    "    pts2 = np.float32([[0,r-1],[c-1,r-1],[30,0]])\n",
    "    Matrix = cv2.getAffineTransform(pts1,pts2)\n",
    "    Myimg = cv2.warpAffine(g,Matrix,(c,r))\n",
    "    return Myimg\n",
    "\n",
    "def perspective_Fuc(g):\n",
    "    #矯正\n",
    "    #透視轉換\n",
    "    r,c = g.shape[:2]\n",
    "    pts1 = np.float32([[25, 88], [517, 20], [116, 506], [705, 390]])\n",
    "    pts2 = np.float32([[0, 0], [600, 0], [0, 600], [600, 600]])\n",
    "    Matrix = cv2.getPerspectiveTransform(pts1,pts2)\n",
    "    Myimg = cv2.warpPerspective(g,Matrix,(600,600))\n",
    "    return Myimg\n"
   ]
  },
  {
   "cell_type": "code",
   "execution_count": 59,
   "id": "610488dd",
   "metadata": {},
   "outputs": [
    {
     "name": "stdout",
     "output_type": "stream",
     "text": [
      "(299, 168, 3)\n",
      "Enter:0/1/2/3/43\n"
     ]
    },
    {
     "data": {
      "text/plain": [
       "-1"
      ]
     },
     "execution_count": 59,
     "metadata": {},
     "output_type": "execute_result"
    }
   ],
   "source": [
    "import cv2\n",
    "import numpy as np\n",
    "#讀入照片\n",
    "path = \"girl.jpg\"\n",
    "path2 = \"pp.jpg\"\n",
    "img = cv2.imread(path)\n",
    "newimg = img\n",
    "print(img.shape)\n",
    "#狀態\n",
    "state = eval(input(\"Enter:0/1/2/3/4\"))\n",
    "if state==0:\n",
    "    newimg=ROI_Fuc(img)\n",
    "elif state==1:\n",
    "    newimg=Scale_Fuc(img)\n",
    "elif state==2:\n",
    "    newimg=Rotate_Fuc(img)\n",
    "elif state==3:\n",
    "    newimg=Affine_Fuc(img)\n",
    "elif state==4:\n",
    "    newimg=perspective_Fuc(img)\n",
    "cv2.imshow('old',img)\n",
    "cv2.imshow('NEW',newimg)\n",
    "cv2.waitKey(0)  \n",
    "\n"
   ]
  },
  {
   "cell_type": "code",
   "execution_count": null,
   "id": "5009c379",
   "metadata": {},
   "outputs": [],
   "source": []
  }
 ],
 "metadata": {
  "kernelspec": {
   "display_name": "Python 3 (ipykernel)",
   "language": "python",
   "name": "python3"
  },
  "language_info": {
   "codemirror_mode": {
    "name": "ipython",
    "version": 3
   },
   "file_extension": ".py",
   "mimetype": "text/x-python",
   "name": "python",
   "nbconvert_exporter": "python",
   "pygments_lexer": "ipython3",
   "version": "3.7.11"
  }
 },
 "nbformat": 4,
 "nbformat_minor": 5
}
