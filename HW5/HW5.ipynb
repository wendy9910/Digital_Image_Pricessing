{
 "cells": [
  {
   "cell_type": "code",
   "execution_count": null,
   "id": "07b19f94",
   "metadata": {},
   "outputs": [],
   "source": [
    "#•完成專案實作4 (教科書第5-44、5-45頁)\n"
   ]
  },
  {
   "cell_type": "code",
   "execution_count": 1,
   "id": "ad075b62",
   "metadata": {},
   "outputs": [],
   "source": [
    "import cv2\n",
    "import numpy as np"
   ]
  },
  {
   "cell_type": "code",
   "execution_count": 86,
   "id": "3043c984",
   "metadata": {},
   "outputs": [],
   "source": [
    "#image gradient\n",
    "#Sobel\n",
    "def Sobel_gradient(f,direction=1):\n",
    "    sobel_x = np.array([[-1,-2,-1],[0,0,0],[1,2,1]])\n",
    "    sobel_y = np.array([[-1,0,1],[-2,0,2],[-1,0,1]])\n",
    "    if direction==1:\n",
    "        grad_x = cv2.filter2D(f,cv2.CV_32F,sobel_x)\n",
    "        gx = abs(grad_x)\n",
    "        g = np.uint8(np.clip(gx,0,255))\n",
    "    elif direction==2:\n",
    "        grad_y = cv2.filter2D(f,cv2.CV_32F,sobel_y)\n",
    "        gy = abs(grad_y)\n",
    "        g = np.uint8(np.clip(gy,0,255))\n",
    "    else:\n",
    "        grad_x = cv2.filter2D(f,cv2.CV_32F,sobel_x)\n",
    "        grad_y = cv2.filter2D(f,cv2.CV_32F,sobel_y)\n",
    "        magnitude = abs(grad_x)+abs(grad_y)\n",
    "        g = np.uint8(np.clip(magnitude,0,255))\n",
    "    \n",
    "    return g\n",
    "#Gaussian\n",
    "\n",
    "def Gaussian_gradient(f,direction=1):\n",
    "    sigma1=0.5\n",
    "    x = np.array([[1,2,1],[2,4,2],[1,2,1]])\n",
    "    y = np.array([[1,2,1],[2,4,2],[1,2,1]])\n",
    "    \n",
    "    if direction==1:\n",
    "        gsx = np.exp(-(x**2)/(2*sigma1*sigma1))\n",
    "        grad_x = cv2.filter2D(f,cv2.CV_32F,gsx)\n",
    "        gx = abs(grad_x)\n",
    "        g = np.uint8(np.clip(gx,0,255))\n",
    "    elif direction==2:\n",
    "        gsy = np.exp(-(y**2)/(2*sigma1*sigma1))\n",
    "        grad_y = cv2.filter2D(f,cv2.CV_32F,gsy)\n",
    "        gy = abs(grad_y)\n",
    "        g = np.uint8(np.clip(gy,0,255))\n",
    "    else:\n",
    "        gsx = np.exp(-(x**2)/(2*sigma1*sigma1))\n",
    "        gsy = np.exp(-(y**2)/(2*sigma1*sigma1))\n",
    "        grad_x = cv2.filter2D(f,cv2.CV_32F,gsx)\n",
    "        grad_y = cv2.filter2D(f,cv2.CV_32F,gsy)\n",
    "        magnitude = abs(grad_x)+abs(grad_y)\n",
    "        g = np.uint8(np.clip(magnitude,0,255))\n",
    "    \n",
    "    return g\n",
    "\n"
   ]
  },
  {
   "cell_type": "code",
   "execution_count": 84,
   "id": "8cac62de",
   "metadata": {},
   "outputs": [
    {
     "data": {
      "text/plain": [
       "-1"
      ]
     },
     "execution_count": 84,
     "metadata": {},
     "output_type": "execute_result"
    }
   ],
   "source": [
    "img = cv2.imread(\"Osaka.jpg\",-1)\n",
    "img = cv2.cvtColor(img, cv2.COLOR_BGR2GRAY)\n",
    "gx = Sobel_gradient(img,1)\n",
    "gy = Sobel_gradient(img,2)\n",
    "g = Sobel_gradient(img,3)\n",
    "cv2.imshow(\"Original\",img)\n",
    "cv2.imshow(\"Gx\",gx)\n",
    "cv2.imshow(\"Gy\",gy)\n",
    "cv2.imshow(\"G\",g)\n",
    "\n",
    "cv2.waitKey(0)\n"
   ]
  },
  {
   "cell_type": "code",
   "execution_count": 87,
   "id": "4f2fee9e",
   "metadata": {},
   "outputs": [
    {
     "data": {
      "text/plain": [
       "-1"
      ]
     },
     "execution_count": 87,
     "metadata": {},
     "output_type": "execute_result"
    }
   ],
   "source": [
    "img = cv2.imread(\"Osaka.jpg\",-1)\n",
    "img = cv2.cvtColor(img, cv2.COLOR_BGR2GRAY)\n",
    "gx = Gaussian_gradient(img,1)\n",
    "gy = Gaussian_gradient(img,2)\n",
    "g = Gaussian_gradient(img,3)\n",
    "cv2.imwrite('Gx.jpg',gx)\n",
    "cv2.imwrite('Gy.jpg',gy)\n",
    "cv2.imwrite('G.jpg',g)\n",
    "\n",
    "cv2.imshow(\"Original\",img)\n",
    "cv2.imshow(\"Gx\",gx)\n",
    "cv2.imshow(\"Gy\",gy)\n",
    "cv2.imshow(\"G\",g)\n",
    "\n",
    "cv2.waitKey(0)\n"
   ]
  },
  {
   "cell_type": "code",
   "execution_count": null,
   "id": "de050e47",
   "metadata": {},
   "outputs": [],
   "source": []
  }
 ],
 "metadata": {
  "kernelspec": {
   "display_name": "Python 3 (ipykernel)",
   "language": "python",
   "name": "python3"
  },
  "language_info": {
   "codemirror_mode": {
    "name": "ipython",
    "version": 3
   },
   "file_extension": ".py",
   "mimetype": "text/x-python",
   "name": "python",
   "nbconvert_exporter": "python",
   "pygments_lexer": "ipython3",
   "version": "3.7.11"
  }
 },
 "nbformat": 4,
 "nbformat_minor": 5
}
