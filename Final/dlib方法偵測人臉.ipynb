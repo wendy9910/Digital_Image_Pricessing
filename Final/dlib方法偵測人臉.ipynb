{
 "cells": [
  {
   "cell_type": "code",
   "execution_count": 2,
   "id": "1d6a696b",
   "metadata": {},
   "outputs": [],
   "source": [
    "import numpy as np\n",
    "import cv2                #影象處理庫OpenCV\n",
    "import dlib               #人臉識別庫dlib"
   ]
  },
  {
   "cell_type": "code",
   "execution_count": 26,
   "id": "a87b882e",
   "metadata": {},
   "outputs": [
    {
     "name": "stdout",
     "output_type": "stream",
     "text": [
      "<class 'numpy.matrix'>\n"
     ]
    },
    {
     "data": {
      "text/plain": [
       "-1"
      ]
     },
     "execution_count": 26,
     "metadata": {},
     "output_type": "execute_result"
    }
   ],
   "source": [
    "#dlib預測器\n",
    "detector = dlib.get_frontal_face_detector()    #使用dlib庫提供的人臉提取器\n",
    "predictor = dlib.shape_predictor('shape_predictor_68_face_landmarks.dat')   #構建特徵提取器\n",
    "\n",
    "# cv2讀取影象\n",
    "img = cv2.imread(\"me.jpg\")\n",
    "\n",
    "# 取灰度\n",
    "img_gray = cv2.cvtColor(img, cv2.COLOR_RGB2GRAY)\n",
    "\n",
    "# 人臉數rects\n",
    "rects = detector(img_gray, 0)\n",
    "for i in range(len(rects)):\n",
    "    landmarks = np.matrix([[p.x, p.y] for p in predictor(img,rects[i]).parts()])  #人臉關鍵點識別\n",
    "    print(type(landmarks))\n",
    "    for idx, point in enumerate(landmarks):        #enumerate函式遍歷序列中的元素及它們的下標\n",
    "        # 68點的座標\n",
    "        #print(point)\n",
    "        pos = (point[0, 0], point[0, 1])\n",
    "        #print(idx,pos)\n",
    "\n",
    "        # 利用cv2.circle給每個特徵點畫一個圈，共68個\n",
    "        cv2.circle(img, pos, 5, color=(0, 255, 0),thickness = -1)\n",
    "        # 利用cv2.putText輸出1-68\n",
    "        font = cv2.FONT_HERSHEY_SIMPLEX\n",
    "        #各引數依次是：圖片，新增的文字，座標，字型，字型大小，顏色，字型粗細\n",
    "        #cv2.putText(img, str(idx+1), pos, font, 0.8, (0, 0, 255), 1,cv2.LINE_AA)\n",
    "    \n",
    "    pos1 = (landmarks[27,0], landmarks[27,1])\n",
    "    pos2 = (landmarks[30,0], landmarks[30,1])\n",
    "    cv2.line(img,pos1, pos2, (0, 0, 0), 4)\n",
    "    \n",
    "    pos3 = (landmarks[36,0], landmarks[36,1])\n",
    "    pos4 = (landmarks[39,0], landmarks[39,1])\n",
    "    cv2.line(img,pos3, pos4, (0, 0, 0), 4)\n",
    "    \n",
    "    pos5 = (landmarks[42,0], landmarks[42,1])\n",
    "    pos6 = (landmarks[45,0], landmarks[45,1])\n",
    "    cv2.line(img,pos5, pos6, (0, 0, 0), 4)\n",
    "    \n",
    "    pos7 = (landmarks[48,0], landmarks[48,1])\n",
    "    pos8 = (landmarks[54,0], landmarks[54,1])\n",
    "    cv2.line(img,pos7, pos8, (0, 0, 0), 4)\n",
    "\n",
    "\n",
    "cv2.namedWindow(\"img\", 2)     \n",
    "cv2.imshow(\"img\", img)       #顯示影象\n",
    "cv2.waitKey(0)        #等待按鍵，隨後退出"
   ]
  },
  {
   "cell_type": "code",
   "execution_count": null,
   "id": "2b49457b",
   "metadata": {},
   "outputs": [],
   "source": []
  }
 ],
 "metadata": {
  "kernelspec": {
   "display_name": "Python 3 (ipykernel)",
   "language": "python",
   "name": "python3"
  },
  "language_info": {
   "codemirror_mode": {
    "name": "ipython",
    "version": 3
   },
   "file_extension": ".py",
   "mimetype": "text/x-python",
   "name": "python",
   "nbconvert_exporter": "python",
   "pygments_lexer": "ipython3",
   "version": "3.7.11"
  }
 },
 "nbformat": 4,
 "nbformat_minor": 5
}
