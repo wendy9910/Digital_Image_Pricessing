{
 "cells": [
  {
   "cell_type": "code",
   "execution_count": 3,
   "id": "c1e79eaa",
   "metadata": {},
   "outputs": [],
   "source": [
    "from __future__ import print_function\n",
    "import numpy as np\n",
    "import cv2 as cv\n",
    "import argparse"
   ]
  },
  {
   "cell_type": "code",
   "execution_count": 21,
   "id": "2ba5dc81",
   "metadata": {},
   "outputs": [
    {
     "name": "stdout",
     "output_type": "stream",
     "text": [
      "[[ 23  54 101 101]]\n"
     ]
    }
   ],
   "source": [
    "import numpy as np\n",
    "import cv2\n",
    " \n",
    "# 脸\n",
    "face_cascade=cv2.CascadeClassifier('C:/Users/88691/Gigital_Image_Processing/HW/Final/opencv/data/haarcascades/haarcascade_frontalface_default.xml')\n",
    "eye_cascade = cv2.CascadeClassifier('C:/Users/88691/Gigital_Image_Processing/HW/Final/opencv/data/haarcascades/haarcascade_eye.xml')\n",
    "# 眼睛\n",
    "eye_cascade = cv2.CascadeClassifier('C:/Users/88691/Gigital_Image_Processing/HW/Final/opencv/data/haarcascades/haarcascade_eye.xml')\n",
    "eye_cascade.load('C:/Users/88691/Gigital_Image_Processing/HW/Final/opencv/data/haarcascades/haarcascade_eye.xml')\n",
    "#嘴巴\n",
    "mouth_cascade = cv2.CascadeClassifier('C:/Users/88691/Gigital_Image_Processing/HW/Final/opencv/data/haarcascades/haarcascade_mcs_mouth.xml')\n",
    "mouth_cascade.load('C:/Users/88691/Gigital_Image_Processing/HW/Final/opencv/data/haarcascades/haarcascade_mcs_mouth.xml')\n",
    "#鼻子\n",
    "nose_cascade = cv2.CascadeClassifier('C:/Users/88691/Gigital_Image_Processing/HW/Final/opencv/data/haarcascades/haarcascade_mcs_nose.xml')\n",
    "nose_cascade.load('C:/Users/88691/Gigital_Image_Processing/HW/Final/opencv/data/haarcascades/haarcascade_mcs_nose.xml')\n",
    "#耳朵\n",
    "leftear_cascade = cv2.CascadeClassifier('C:/Users/88691/Gigital_Image_Processing/HW/Final/opencv/data/haarcascades/haarcascade_mcs_leftear.xml')\n",
    "leftear_cascade.load('C:/Users/88691/Gigital_Image_Processing/HW/Final/opencv/data/haarcascades/haarcascade_mcs_leftear.xml')\n",
    "rightear_cascade = cv2.CascadeClassifier('C:/Users/88691/Gigital_Image_Processing/HW/Final/opencv/data/haarcascades/haarcascade_mcs_rightear.xml')\n",
    "rightear_cascade.load('C:/Users/88691/Gigital_Image_Processing/HW/Final/opencv/data/haarcascades/haarcascade_mcs_rightear.xml')\n",
    " \n",
    "\n",
    "img = cv2.imread('girl.jpg')\n",
    "gray = cv2.cvtColor(img, cv2.COLOR_BGR2GRAY)\n",
    "\n",
    "#脸 \n",
    "faces=face_cascade.detectMultiScale(gray,1.3,5)\n",
    "\n",
    "\n",
    "print(faces)\n",
    "for (x, y, w, h) in faces:\n",
    "     img = cv2.rectangle(img, (x,y),(x+w, y+h), (255, 0, 0), 2)\n",
    "     roi_gray = gray[y:y+h, x:x+w]\n",
    "     roi_color = img[y:y+h, x:x+w]\n",
    "     #眼睛\n",
    "     eyes = eye_cascade.detectMultiScale(roi_gray, 1.2, 3)\n",
    "     for (ex,ey,ew,eh) in eyes:\n",
    "          cv2.rectangle(roi_color, (ex, ey),(ex+ew, ey+eh), (0, 255, 0), 2)\n",
    "#      #嘴巴\n",
    "#      mouth = mouth_cascade.detectMultiScale(roi_gray, 1.5,3)\n",
    "#      for (mx, my, mw, mh) in mouth:\n",
    "#           cv2.rectangle(roi_color, (mx, my), (mx+mw, my+mh), (0, 0, 255), 2)\n",
    "#      #鼻子\n",
    "#      nose = nose_cascade.detectMultiScale(roi_gray, 1.2, 5)\n",
    "#      for (nx, ny, nw, nh) in nose:\n",
    "#           cv2.rectangle(roi_color, (nx, ny), (nx+nw, ny+nh), (255, 0, 255), 2)\n",
    "\n",
    "          \n",
    "cv2.imshow('img', img)\n",
    "cv2.waitKey(0)\n",
    "cv2.destroyAllWindows()\n",
    " "
   ]
  },
  {
   "cell_type": "code",
   "execution_count": 6,
   "id": "88484ef8",
   "metadata": {},
   "outputs": [
    {
     "data": {
      "text/plain": [
       "-1"
      ]
     },
     "execution_count": 6,
     "metadata": {},
     "output_type": "execute_result"
    }
   ],
   "source": [
    "import cv2\n",
    "filename='girl.jpg'\n",
    "\n",
    "face_cascade=cv2.CascadeClassifier('C:/Users/88691/Gigital_Image_Processing/HW/Final/opencv/data/haarcascades/haarcascade_frontalface_default.xml')\n",
    "eye_cascade = cv2.CascadeClassifier('C:/Users/88691/Gigital_Image_Processing/HW/Final/opencv/data/haarcascades/haarcascade_eye.xml')\n",
    "# eye_cascade.load('D:BROWSE/Opencv/opencv/sources/data/haarcascades/haarcascade_eye.xml')\n",
    "\n",
    "\n",
    "img=cv2.imread(filename)\n",
    "gray=cv2.cvtColor(img,cv2.COLOR_BGR2GRAY)\n",
    "  \n",
    "faces=face_cascade.detectMultiScale(gray,1.3,5)\n",
    "for (x,y,h,w) in faces:\n",
    "    img=cv2.rectangle(img,(x,y),(x+w,y+h),(255,0,0),2)\n",
    "cv2.namedWindow('faces Detected!')\n",
    "cv2.imshow('faces Detected!',img)\n",
    "cv2.imwrite('faces.jpg',img)\n",
    "cv2.waitKey(0)\n"
   ]
  },
  {
   "cell_type": "code",
   "execution_count": null,
   "id": "ec8ef043",
   "metadata": {},
   "outputs": [],
   "source": []
  }
 ],
 "metadata": {
  "kernelspec": {
   "display_name": "Python 3 (ipykernel)",
   "language": "python",
   "name": "python3"
  },
  "language_info": {
   "codemirror_mode": {
    "name": "ipython",
    "version": 3
   },
   "file_extension": ".py",
   "mimetype": "text/x-python",
   "name": "python",
   "nbconvert_exporter": "python",
   "pygments_lexer": "ipython3",
   "version": "3.7.11"
  }
 },
 "nbformat": 4,
 "nbformat_minor": 5
}
