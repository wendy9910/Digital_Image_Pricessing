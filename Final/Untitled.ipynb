{
 "cells": [
  {
   "cell_type": "code",
   "execution_count": 3,
   "id": "ae49062d",
   "metadata": {},
   "outputs": [],
   "source": [
    "import numpy as np"
   ]
  },
  {
   "cell_type": "code",
   "execution_count": 5,
   "id": "73014a53",
   "metadata": {},
   "outputs": [],
   "source": [
    "# 权函数\n",
    "def W_fun(d,x,X):\n",
    "    s=abs(x-X)/d\n",
    "    if (s<=0.5):\n",
    "        return (2/3)-4*s**2+4*s**3\n",
    "    elif(s<=1):\n",
    "        return (4/3)-4*s+4*s**2-(4/3)*s**3\n",
    "    else:\n",
    "        return 0\n",
    "# 权函数记号(pm,pn)的计算\n",
    "def pm_pn(w,x,p,m,n):\n",
    "    # x为数据点，w为支撑域的权重，M为数据点个数 p1,p2为传入的数值\n",
    "    pmn=0\n",
    "    M=len(x)\n",
    "    # i代表数据点,m n代表(pm,pn)的下标\n",
    "    for i in range(M):\n",
    "        pmn=pmn+w[i]*p[i][m]*p[i][n]\n",
    "    return float(pmn)\n",
    "\n",
    "def fun_B(u,w,p):\n",
    "    pumI=0\n",
    "    M=len(u) #数据点个数\n",
    "    m=p.shape[1] # 基函数个数\n",
    "    B=[]\n",
    "    for j in range(m):\n",
    "        for i in range(M):\n",
    "            pumI=pumI+w[i]*p[i][j]*u[i]\n",
    "        B.append(float(pumI))\n",
    "    return B\n",
    "\n",
    "# A矩阵的建立\n",
    "def fun_A(x,w,p):\n",
    "    M=len(x)\n",
    "    m=p.shape[1]\n",
    "    A=[]\n",
    "    for mm in range(m):\n",
    "        matA=[]\n",
    "        for nn in range(m):\n",
    "            pmn=pm_pn(w,x,p,mm,nn)\n",
    "            matA.append(pmn)\n",
    "        A.append(matA)\n",
    "    return A\n"
   ]
  },
  {
   "cell_type": "code",
   "execution_count": 9,
   "id": "fa9b50a1",
   "metadata": {},
   "outputs": [],
   "source": [
    "#主题部分\n",
    "x=np.arange(-0.9,0.9,0.05)\n",
    "# 数据点x个数\n",
    "M=len(x)\n",
    "# 基函数个数\n",
    "N=2\n",
    "p=np.zeros((M,2))\n",
    "y=[]\n",
    "for XX in X:\n",
    "    w = np.zeros((M,1))\n",
    "    d=0.1 # 影响区域的半径\n",
    "    for i in range(0,M):\n",
    "        w[i]=W_fun(d, x[i], XX)\n",
    "        p[i][0]=1\n",
    "        p[i][1]=x[i]\n",
    "    A=fun_A(x,w,p)\n",
    "    B=fun_B(y,w,p)\n",
    "    a=np.linalg.solve(A,B)\n",
    "    y.append(a[0]+a[1]*XX)"
   ]
  },
  {
   "cell_type": "code",
   "execution_count": null,
   "id": "319a484f",
   "metadata": {},
   "outputs": [],
   "source": []
  }
 ],
 "metadata": {
  "kernelspec": {
   "display_name": "Python 3 (ipykernel)",
   "language": "python",
   "name": "python3"
  },
  "language_info": {
   "codemirror_mode": {
    "name": "ipython",
    "version": 3
   },
   "file_extension": ".py",
   "mimetype": "text/x-python",
   "name": "python",
   "nbconvert_exporter": "python",
   "pygments_lexer": "ipython3",
   "version": "3.7.11"
  }
 },
 "nbformat": 4,
 "nbformat_minor": 5
}
