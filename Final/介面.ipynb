{
 "cells": [
  {
   "cell_type": "code",
   "execution_count": 1,
   "id": "877e9a56",
   "metadata": {},
   "outputs": [],
   "source": [
    "import tkinter as tk\n",
    "from tkinter import filedialog\n",
    "from PIL import Image, ImageTk\n",
    "import numpy as np\n",
    "import cv2"
   ]
  },
  {
   "cell_type": "code",
   "execution_count": 21,
   "id": "91211175",
   "metadata": {},
   "outputs": [],
   "source": [
    "def open_file():\n",
    "    global imgS,imgO\n",
    "    filename=filedialog.askopenfilename()     #獲取文件全路徑\n",
    "    imgS = Image.open(filename)\n",
    "    imgO = Image.open(filename)\n",
    "    thumb_size = (670,670)\n",
    "    imgS.thumbnail(thumb_size)\n",
    "    \n",
    "    print(imgO.size,imgS.size) #初始照片不受影響 ，不能imgS=imgO去指會繼承\n",
    "    \n",
    "    panel = tk.Label(block1)\n",
    "    panel.photo = ImageTk.PhotoImage(imgS)    \n",
    "        \n",
    "    mainImage.config(image=panel.photo) \n",
    "    mainImage['height'] = 600\n",
    "    mainImage['width'] = 670"
   ]
  },
  {
   "cell_type": "code",
   "execution_count": 22,
   "id": "d5fa6cfa",
   "metadata": {},
   "outputs": [
    {
     "name": "stdout",
     "output_type": "stream",
     "text": [
      "(960, 1706) (377, 670)\n"
     ]
    }
   ],
   "source": [
    "window = tk.Tk()\n",
    "window.title('人臉五官微調系統')\n",
    "window.geometry('960x700')\n",
    "\n",
    "div_size = 300\n",
    "align_mode = 'nswe'\n",
    "pad0 = 10\n",
    "pad = 5\n",
    "\n",
    "#整體布局\n",
    "blocktop = tk.Frame(window, width=650, height=30)\n",
    "blocktop2 = tk.Frame(window, width=div_size, height=30)\n",
    "block1 = tk.Frame(window, width=650, height=600,bg='#FFFFFF')\n",
    "block2 = tk.Frame(window, width=div_size, height=250)\n",
    "block3 = tk.Frame(window, width=div_size, height=250)\n",
    "block4 = tk.Frame(window, width=div_size, height=250)\n",
    "\n",
    "blocktop.grid(column=0, row=0, sticky=align_mode)\n",
    "blocktop2.grid(column=1, row=0, sticky=align_mode)\n",
    "block1.grid(column=0, row=1, rowspan=4, sticky=align_mode) \n",
    "block2.grid(column=1, row=2, sticky=align_mode)\n",
    "block3.grid(column=1, row=3, sticky=align_mode)\n",
    "block4.grid(column=1, row=4, sticky=align_mode)\n",
    "\n",
    "\n",
    "#拉霸區塊布局\n",
    "eyelabel = tk.Label(block2,text=\"眼睛\",font=('新細明體', 12),padx=pad, pady=pad,fg='#007799')\n",
    "font = ('Courier New', 20, 'bold')\n",
    "eyescale1 = tk.Scale(\n",
    "    block2, label='大小', from_=0, to=100, orient=\"horizontal\",tickinterval=10,length=280)\n",
    "eyescale2 = tk.Scale(\n",
    "    block2, label='旋轉', from_=0, to=100, orient=\"horizontal\",tickinterval=10,length=280)\n",
    "eyescale3 = tk.Scale(\n",
    "    block2, label='眼距', from_=0, to=100, orient=\"horizontal\",tickinterval=10,length=280)\n",
    "\n",
    "eyelabel.grid(row=0, column=0)\n",
    "eyescale1.grid(row=1, column=0)\n",
    "eyescale2.grid(row=2, column=0)\n",
    "eyescale3.grid(row=3, column=0)\n",
    "\n",
    "noselabel = tk.Label(block3,text=\"鼻子\",font=('新細明體', 12),padx=pad, pady=pad,fg='#007799')\n",
    "nosescale1 = tk.Scale(\n",
    "    block3, label='大小', from_=0, to=100, orient=\"horizontal\",tickinterval=10,length=280)\n",
    "nosescale2 = tk.Scale(\n",
    "    block3, label='鼻翼', from_=0, to=100, orient=\"horizontal\",tickinterval=10,length=280)\n",
    "\n",
    "noselabel.grid(row=0, column=0)\n",
    "nosescale1.grid(row=1, column=0)\n",
    "nosescale2.grid(row=2, column=0)\n",
    "\n",
    "mouselabel = tk.Label(block4,text=\"嘴巴\",font=('新細明體', 12),padx=pad, pady=pad,fg='#007799')\n",
    "mousescale1 = tk.Scale(\n",
    "    block4, label='大小', from_=0, to=100, orient=\"horizontal\",tickinterval=10,length=280)\n",
    "mousescale2 = tk.Scale(\n",
    "    block4, label='薄厚', from_=0, to=100, orient=\"horizontal\",tickinterval=10,length=280)\n",
    "\n",
    "mouselabel.grid(row=0, column=0)\n",
    "mousescale1.grid(row=1, column=0)\n",
    "mousescale2.grid(row=2, column=0)\n",
    "\n",
    "#開檔&存檔\n",
    "import_btn = tk.Button(blocktop, text='開啟檔案', bg='#BBFFEE', fg='black',height = 1, \n",
    "          width = 20, command=open_file)\n",
    "save_btn = tk.Button(blocktop, text=\"儲存檔案\", bg='#BBFFEE', fg='black',height = 1, \n",
    "          width = 20)\n",
    "import_btn.grid(column=0, row=0, padx=pad0, pady=pad0, sticky=align_mode)\n",
    "save_btn.grid(column=1, row=0, padx=pad0, pady=pad0, sticky=align_mode)\n",
    "\n",
    "#顯示照片\n",
    "mainImage=tk.Label(block1,height = 1, width = 95, image=None,bg='#FFFFFF') \n",
    "mainImage.grid(row=0, column=0, sticky=align_mode)\n",
    "\n",
    "\n",
    "\n",
    "#window.configure(bg='#FFFFFF')\n",
    "window.mainloop()"
   ]
  },
  {
   "cell_type": "code",
   "execution_count": null,
   "id": "fa29e0a6",
   "metadata": {},
   "outputs": [],
   "source": []
  }
 ],
 "metadata": {
  "kernelspec": {
   "display_name": "Python 3 (ipykernel)",
   "language": "python",
   "name": "python3"
  },
  "language_info": {
   "codemirror_mode": {
    "name": "ipython",
    "version": 3
   },
   "file_extension": ".py",
   "mimetype": "text/x-python",
   "name": "python",
   "nbconvert_exporter": "python",
   "pygments_lexer": "ipython3",
   "version": "3.7.11"
  }
 },
 "nbformat": 4,
 "nbformat_minor": 5
}
