{
 "cells": [
  {
   "cell_type": "code",
   "execution_count": 1,
   "id": "c4f2bec9",
   "metadata": {},
   "outputs": [],
   "source": [
    "import tkinter as tk"
   ]
  },
  {
   "cell_type": "code",
   "execution_count": 104,
   "id": "e56da77b",
   "metadata": {},
   "outputs": [],
   "source": [
    "window = tk.Tk()\n",
    "window.title('人臉五官微調系統')\n",
    "window.geometry('1000x680')\n",
    "\n",
    "div_size = 300\n",
    "align_mode = 'nswe'\n",
    "pad = 5\n",
    "\n",
    "blocktop = tk.Frame(window, width=700, height=30, bg='yellow')\n",
    "blocktop2 = tk.Frame(window, width=300, height=30, bg='yellow')\n",
    "block1 = tk.Frame(window, width=700, height=600, bg='blue')\n",
    "block2 = tk.Frame(window, width=div_size, height=200)\n",
    "block3 = tk.Frame(window, width=div_size, height=200, bg='green')\n",
    "block4 = tk.Frame(window, width=div_size, height=200, bg='red')\n",
    "\n",
    "\n",
    "blocktop.grid(column=0, row=0, padx=pad, pady=pad, sticky=align_mode)\n",
    "blocktop2.grid(column=1, row=0, padx=pad, pady=pad ,sticky=align_mode)\n",
    "block1.grid(column=0, row=1, padx=pad, pady=pad, rowspan=4, sticky=align_mode) \n",
    "block2.grid(column=1, row=2, padx=pad, pady=pad, sticky=align_mode)\n",
    "block3.grid(column=1, row=3, padx=pad, pady=pad, sticky=align_mode)\n",
    "block4.grid(column=1, row=4, padx=pad, pady=pad, sticky=align_mode)\n",
    "\n",
    "import_btn = tk.Button(blocktop, text='開啟檔案', bg='#FFD2D2', fg='black')\n",
    "save_btn = tk.Button(blocktop, text=\"儲存檔案\", bg='#FFD2D2', fg='black')\n",
    "import_btn.grid(column=0, row=0, padx=pad, pady=pad,sticky=align_mode)\n",
    "save_btn.grid(column=1, row=0, padx=pad, pady=pad, sticky=align_mode)\n",
    "\n",
    "eyelabel = tk.Label(block2,text=\"眼睛\")\n",
    "font = ('Courier New', 20, 'bold')\n",
    "scale = tk.Scale(\n",
    "    block2, label='大小', from_=0, to=100, orient=\"horizontal\",tickinterval=10,length=280)\n",
    "eyelabel.grid(row=0, column=0)\n",
    "scale.grid(row=1, column=0)\n",
    "\n",
    "window.mainloop()"
   ]
  },
  {
   "cell_type": "code",
   "execution_count": null,
   "id": "6e0d1654",
   "metadata": {},
   "outputs": [],
   "source": []
  }
 ],
 "metadata": {
  "kernelspec": {
   "display_name": "Python 3 (ipykernel)",
   "language": "python",
   "name": "python3"
  },
  "language_info": {
   "codemirror_mode": {
    "name": "ipython",
    "version": 3
   },
   "file_extension": ".py",
   "mimetype": "text/x-python",
   "name": "python",
   "nbconvert_exporter": "python",
   "pygments_lexer": "ipython3",
   "version": "3.7.11"
  }
 },
 "nbformat": 4,
 "nbformat_minor": 5
}
