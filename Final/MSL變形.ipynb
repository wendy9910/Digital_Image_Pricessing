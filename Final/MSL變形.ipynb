{
 "cells": [
  {
   "cell_type": "code",
   "execution_count": 11,
   "id": "9685a4e8",
   "metadata": {},
   "outputs": [],
   "source": [
    "import numpy as np\n",
    "import cv2"
   ]
  },
  {
   "cell_type": "code",
   "execution_count": 12,
   "id": "823496ea",
   "metadata": {},
   "outputs": [],
   "source": [
    "class trans():\n",
    "    def __init__(self, img, pi):\n",
    "        width, height = img.shape[:2]\n",
    "        pcth = np.repeat(np.arange(height).reshape(height, 1), [width], axis=1)\n",
    "        pctw = np.repeat(np.arange(width).reshape(width, 1), [height], axis=1).T\n",
    "\n",
    "        self.img_coordinate = np.swapaxes(np.array([pcth, pctw]), 1, 2).T\n",
    "        self.cita = compute_G(self.img_coordinate, pi, height, width)\n",
    "        self.pi = pi\n",
    "        self.W, self.A, self.Z = pre_compute_waz(self.pi, height, width, self.img_coordinate)\n",
    "        self.height = height\n",
    "        self.width = width\n",
    "\n",
    "    def deformation(self, img, qi):\n",
    "\n",
    "        qi = self.pi * 2 - qi\n",
    "        mapxy = np.swapaxes(np.float32(compute_fv(qi, self.W, self.A, self.Z, self.height, self.width, self.cita, self.img_coordinate)), 0, 1)\n",
    "        img = cv2.remap(img, mapxy[:, :, 0], mapxy[:, :, 1], borderMode=cv2.BORDER_WRAP, interpolation=cv2.INTER_LINEAR)\n",
    "\n",
    "        return img\n"
   ]
  },
  {
   "cell_type": "code",
   "execution_count": 7,
   "id": "eefe82fd",
   "metadata": {},
   "outputs": [],
   "source": [
    "def pre_compute_waz(pi, height, width, img_coordinate):\n",
    "    # height*width*控制点个数\n",
    "    wi = np.reciprocal(np.power(np.linalg.norm(np.subtract(pi, img_coordinate.reshape(height, width, 1, 2)) + 0.000000001, axis=3),2))\n",
    "\n",
    "    # height*width*2\n",
    "    pstar = np.divide(np.matmul(wi,pi), np.sum(wi, axis=2).reshape(height,width,1))\n",
    "\n",
    "    # height*width*控制点个数*2\n",
    "    phat = np.subtract(pi, pstar.reshape(height, width, 1, 2))\n",
    "\n",
    "    z1 = np.subtract(img_coordinate, pstar)\n",
    "    z2 = np.repeat(np.swapaxes(np.array([z1[:,:,1], -z1[:,:,0]]), 1, 2).T.reshape(height,width,1,2,1), [pi.shape[0]], axis=2)\n",
    "\n",
    "    # height*width*控制点个数*2*1\n",
    "    z1 = np.repeat(z1.reshape(height,width,1,2,1), [pi.shape[0]], axis=2)\n",
    "\n",
    "    # height*width*控制点个数*1*2\n",
    "    s1 = phat.reshape(height,width,pi.shape[0],1,2)\n",
    "    s2 = np.concatenate((s1[:,:,:,:,1], -s1[:,:,:,:,0]), axis=3).reshape(height,width,pi.shape[0],1,2)\n",
    "\n",
    "    a = np.matmul(s1, z1)\n",
    "    b = np.matmul(s1, z2)\n",
    "    c = np.matmul(s2, z1)\n",
    "    d = np.matmul(s2, z2)\n",
    "\n",
    "    # 重构wi形状\n",
    "    ws = np.repeat(wi.reshape(height,width,pi.shape[0],1),[4],axis=3)\n",
    "\n",
    "    # height*width*控制点个数*2*2\n",
    "    A = (ws * np.concatenate((a,b,c,d), axis=3).reshape(height,width,pi.shape[0],4)).reshape(height,width,pi.shape[0],2,2)\n",
    "\n",
    "    return wi, A, z1\n"
   ]
  },
  {
   "cell_type": "code",
   "execution_count": 8,
   "id": "2eb76aa6",
   "metadata": {},
   "outputs": [],
   "source": [
    "def compute_fv(qi, W, A, Z, height, width, cita, img_coordinate):   \n",
    "    qstar = np.divide(np.matmul(W,qi), np.sum(W, axis=2).reshape(height,width,1))\n",
    "    qhat = np.subtract(qi, qstar.reshape(height, width, 1, 2)).reshape(height, width, qi.shape[0], 1, 2)\n",
    "    fv_ = np.sum(np.matmul(qhat, A),axis=2)\n",
    "    fv = np.linalg.norm(Z[:,:,0,:,:],axis=2) / (np.linalg.norm(fv_,axis=3)+0.0000000001) * fv_[:,:,0,:] + qstar\n",
    "    fv = (fv - img_coordinate) * cita.reshape(height, width, 1) + img_coordinate\n",
    "    return fv\n"
   ]
  },
  {
   "cell_type": "code",
   "execution_count": 9,
   "id": "8cde327e",
   "metadata": {},
   "outputs": [],
   "source": [
    "def compute_G(img_coordinate, pi, height, width, thre = 0.7):\n",
    "    max = np.max(pi, 0)\n",
    "    min = np.min(pi, 0)\n",
    "\n",
    "    length = np.max(max - min)\n",
    "\n",
    "    # 计算控制区域中心\n",
    "    # p_ = (max + min) // 2\n",
    "    p_ = np.sum(pi,axis=0) // pi.shape[0]\n",
    "\n",
    "    # 计算控制区域\n",
    "    minx, miny = min - length\n",
    "    maxx, maxy = max + length\n",
    "    minx = minx if minx > 0 else 0\n",
    "    miny = miny if miny > 0 else 0\n",
    "    maxx = maxx if maxx < height else height\n",
    "    maxy = maxy if maxy < width else width\n",
    "\n",
    "    k1 =(p_ - [0,0])[1] / (p_ - [0,0])[0]\n",
    "    k2 =(p_ - [height,0])[1] / (p_ - [height,0])[0]\n",
    "    k4 =(p_ - [0,width])[1] / (p_ - [0,width])[0]\n",
    "    k3 =(p_ - [height, width])[1] / (p_ - [height, width])[0]\n",
    "    k = (np.subtract(p_, img_coordinate)[:, :, 1] / (np.subtract(p_, img_coordinate)[:, :, 0] + 0.000000000001)).reshape(height, width, 1)\n",
    "    k = np.concatenate((img_coordinate, k), axis=2)\n",
    "\n",
    "    k[:,:p_[1],0][(k[:,:p_[1],2] > k1) | (k[:,:p_[1],2] < k2)] = (np.subtract(p_[1], k[:,:,1]) / p_[1]).reshape(height, width, 1)[:,:p_[1],0][(k[:,:p_[1],2] > k1) | (k[:,:p_[1],2] < k2)]\n",
    "    k[:,p_[1]:,0][(k[:,p_[1]:,2] > k3) | (k[:,p_[1]:,2] < k4)] = (np.subtract(k[:,:,1], p_[1]) / (width - p_[1])).reshape(height, width, 1)[:,p_[1]:,0][(k[:,p_[1]:,2] > k3) | (k[:,p_[1]:,2] < k4)]\n",
    "    k[:p_[0],:,0][(k1 >= k[:p_[0],:,2]) & (k[:p_[0],:,2] >= k4)] = (np.subtract(p_[0], k[:,:,0]) / p_[0]).reshape(height, width, 1)[:p_[0],:,0][(k1 >= k[:p_[0],:,2]) & (k[:p_[0],:,2] >= k4)]\n",
    "    k[p_[0]:,:,0][(k3 >= k[p_[0]:,:,2]) & (k[p_[0]:,:,2] >= k2)] = (np.subtract(k[:,:,0], p_[0]) / (height - p_[0])).reshape(height, width, 1)[p_[0]:,:,0][(k3 >= k[p_[0]:,:,2]) & (k[p_[0]:,:,2] >= k2)]\n",
    "\n",
    "    cita = np.exp(-np.power(k[:,:,0] / thre,2))\n",
    "    cita[minx:maxx,miny:maxy] = 1\n",
    "    # 如果不需要局部变形，可以把cita的值全置为1\n",
    "    # cita = 1\n",
    "\n",
    "    return cita\n"
   ]
  },
  {
   "cell_type": "code",
   "execution_count": 24,
   "id": "3451e16e",
   "metadata": {},
   "outputs": [
    {
     "name": "stdout",
     "output_type": "stream",
     "text": [
      "(x,y)=(192,319) (x,y)=(207,326) "
     ]
    },
    {
     "data": {
      "text/plain": [
       "-1"
      ]
     },
     "execution_count": 24,
     "metadata": {},
     "output_type": "execute_result"
    }
   ],
   "source": [
    "def onMouse(event,x,y,flags,param):\n",
    "    x,y = y,x\n",
    "    if event == cv2.EVENT_LBUTTONDOWN:\n",
    "        print(\"(x,y)=(%d,%d)\"%(x,y),end=\" \")\n",
    "\n",
    "global img\n",
    "path = \"C:/Users/88691/Gigital_Image_Processing/HW/Final/Image/womanface.jpg\"\n",
    "img = cv2.imread(path,-1)\n",
    "cv2.namedWindow(path)\n",
    "cv2.setMouseCallback(path,onMouse)\n",
    "cv2.imshow(path,img)\n",
    "cv2.waitKey(0)\n",
    " \n",
    "        "
   ]
  },
  {
   "cell_type": "code",
   "execution_count": 25,
   "id": "c9fb05f4",
   "metadata": {},
   "outputs": [
    {
     "data": {
      "text/plain": [
       "-1"
      ]
     },
     "execution_count": 25,
     "metadata": {},
     "output_type": "execute_result"
    }
   ],
   "source": [
    "# 里面输入你的图片位置，绝对位置和相对位置都可以\n",
    "img = cv2.imread('C:/Users/88691/Gigital_Image_Processing/HW/Final/Image/womanface.jpg')\n",
    "# pi = np.array([228, 141, 326, 166, 401, 262, 298, 357, 196, 373]).reshape(-1, 2)\n",
    "# qi = np.array([228, 141, 329, 164, 401, 262, 321, 345, 164, 373]).reshape(-1, 2)\n",
    "pi = np.array([202,292, 183,327, 202,350, 213,321]).reshape(-1, 2)\n",
    "qi = np.array([202,292, 182,320, 202,350, 221,330]).reshape(-1, 2)\n",
    "\n",
    "ddd = trans(img, pi)\n",
    "img2 = ddd.deformation(img, qi)\n",
    "\n",
    "cv2.imshow('old', img)\n",
    "cv2.imshow('new', img2)\n",
    "cv2.waitKey(0)"
   ]
  },
  {
   "cell_type": "code",
   "execution_count": null,
   "id": "d1379e95",
   "metadata": {},
   "outputs": [],
   "source": []
  }
 ],
 "metadata": {
  "kernelspec": {
   "display_name": "Python 3 (ipykernel)",
   "language": "python",
   "name": "python3"
  },
  "language_info": {
   "codemirror_mode": {
    "name": "ipython",
    "version": 3
   },
   "file_extension": ".py",
   "mimetype": "text/x-python",
   "name": "python",
   "nbconvert_exporter": "python",
   "pygments_lexer": "ipython3",
   "version": "3.7.11"
  }
 },
 "nbformat": 4,
 "nbformat_minor": 5
}
