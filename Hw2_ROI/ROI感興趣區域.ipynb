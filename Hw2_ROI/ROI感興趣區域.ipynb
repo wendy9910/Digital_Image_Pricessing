{
 "cells": [
  {
   "cell_type": "code",
   "execution_count": 22,
   "id": "129b3f59",
   "metadata": {},
   "outputs": [],
   "source": [
    "import cv2\n",
    "import numpy as np\n",
    "import random"
   ]
  },
  {
   "cell_type": "code",
   "execution_count": 10,
   "id": "83e3f191",
   "metadata": {},
   "outputs": [
    {
     "data": {
      "text/plain": [
       "-1"
      ]
     },
     "execution_count": 10,
     "metadata": {},
     "output_type": "execute_result"
    }
   ],
   "source": [
    "#顯示照片\n",
    "img = cv2.imread(\"cute.jpg\")\n",
    "\n",
    "cv2.namedWindow(\"cat\",0)\n",
    "cv2.resizeWindow(\"cat\", 1080,756)\n",
    "cv2.imshow('cat',img)\n",
    "cv2.waitKey(0)"
   ]
  },
  {
   "cell_type": "code",
   "execution_count": 18,
   "id": "ac454d7d",
   "metadata": {},
   "outputs": [
    {
     "name": "stdout",
     "output_type": "stream",
     "text": [
      "Enter(x,y)for ROI:50,50\n",
      "Enter(rows,columns)for ROI:100,100\n"
     ]
    },
    {
     "data": {
      "text/plain": [
       "-1"
      ]
     },
     "execution_count": 18,
     "metadata": {},
     "output_type": "execute_result"
    }
   ],
   "source": [
    "#ROI擷取\n",
    "ROI_x,ROI_y = eval(input(\"Enter(x,y)for ROI:\"))\n",
    "ROI_nr,ROI_nc = eval(input(\"Enter(rows,columns)for ROI:\"))\n",
    "\n",
    "path = \"cute.jpg\"\n",
    "Myimg = cv2.imread(path)\n",
    "Myimg = cv2.resize(Myimg, (1080,756))\n",
    "ROI = Myimg[ROI_x:ROI_x+ROI_nr,ROI_y:ROI_y+ROI_nc]\n",
    "cv2.imshow('ROI',ROI)\n",
    "cv2.waitKey(0)"
   ]
  },
  {
   "cell_type": "code",
   "execution_count": 29,
   "id": "5ce4e086",
   "metadata": {},
   "outputs": [],
   "source": [
    "#Char2設計在Baboon影像中，任意擷取至少10張100*100的ROI,並儲存為數位影像。在此請使用亂數產生器，且ROI不能超出原始影像的範圍，ROI的名稱依序為ROI01.bmp...\n",
    "\n",
    "imgbaboon = cv2.imread('baboon.png')\n",
    "w,h,c = imgbaboon.shape\n",
    "ROI_nr,ROI_nc = 100,100\n",
    "count = 1\n",
    "while True:\n",
    "    ROI_x,ROI_y = random.randint(0,w-1),random.randint(0,h-1)\n",
    "    \n",
    "    if ROI_x+ROI_nr < w and ROI_y+ROI_nc < h:\n",
    "        ROI = imgbaboon[ROI_x:ROI_x+ROI_nr,ROI_y:ROI_y+ROI_nc]\n",
    "        cv2.imwrite(\"SaveImg/ROI0%s.bmp\" %(str(count)),ROI)\n",
    "        count+=1\n",
    "    if count > 10:\n",
    "        break\n",
    "\n"
   ]
  },
  {
   "cell_type": "code",
   "execution_count": null,
   "id": "189fddc1",
   "metadata": {},
   "outputs": [],
   "source": []
  }
 ],
 "metadata": {
  "kernelspec": {
   "display_name": "Python 3 (ipykernel)",
   "language": "python",
   "name": "python3"
  },
  "language_info": {
   "codemirror_mode": {
    "name": "ipython",
    "version": 3
   },
   "file_extension": ".py",
   "mimetype": "text/x-python",
   "name": "python",
   "nbconvert_exporter": "python",
   "pygments_lexer": "ipython3",
   "version": "3.7.11"
  }
 },
 "nbformat": 4,
 "nbformat_minor": 5
}
