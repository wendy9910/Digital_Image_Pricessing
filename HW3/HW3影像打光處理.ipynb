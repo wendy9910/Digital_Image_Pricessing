{
 "cells": [
  {
   "cell_type": "code",
   "execution_count": 1,
   "id": "02d75bb4",
   "metadata": {},
   "outputs": [],
   "source": [
    "#完成專案實作2 (教科書第3-18頁)\n",
    "#設計Python程式，產生橢圓形的打光函數，對數位影像進行打光，並產生輸出的數位影像"
   ]
  },
  {
   "cell_type": "code",
   "execution_count": 2,
   "id": "c7e36f27",
   "metadata": {},
   "outputs": [],
   "source": [
    "import numpy as np\n",
    "import cv2"
   ]
  },
  {
   "cell_type": "code",
   "execution_count": 56,
   "id": "16818f1a",
   "metadata": {},
   "outputs": [],
   "source": [
    "def image_formation_model(f,x0,y0,sigma1,sigma2):\n",
    "    g=f.copy()\n",
    "    r,c = f.shape[:2]\n",
    "    il = np.zeros([r,c],dtype='float32')\n",
    "    for i in range(r):\n",
    "        for j in range(c):\n",
    "            il[i,j] = np.exp(-((i-x0)**2+(j-y0)**2)/((2*sigma1*sigma1))\n",
    "    cv2.imshow(\"il\",il)         \n",
    "    \n",
    "    for x in range(r):\n",
    "        for y in range(c):\n",
    "            for k in range(3):\n",
    "                val = round(il[i,j]*f[i,j,k])\n",
    "                g[i,j,k] = np.uint8(val)\n",
    "                \n",
    "    return g\n",
    "    "
   ]
  },
  {
   "cell_type": "code",
   "execution_count": 58,
   "id": "3541ac34",
   "metadata": {},
   "outputs": [
    {
     "name": "stdout",
     "output_type": "stream",
     "text": [
      "(202, 250, 3)\n"
     ]
    },
    {
     "data": {
      "text/plain": [
       "-1"
      ]
     },
     "execution_count": 58,
     "metadata": {},
     "output_type": "execute_result"
    }
   ],
   "source": [
    "img = cv2.imread(\"monet2.jpg\",-1)\n",
    "row,column = img.shape[:2]\n",
    "print(img.shape)\n",
    "x0 = row/2\n",
    "y0 = column/2\n",
    "sigma1 = 50\n",
    "sigma2 = 100\n",
    "img2 = image_formation_model(img,x0,y0,sigma1,sigma2)\n",
    "#img3 = image_formation_model(img,x0,y0,sigma1,sigma1)\n",
    "cv2.imshow(\"Original Image\",img)\n",
    "cv2.imshow(\"Image1\",img2)\n",
    "#cv2.imshow(\"Image2\",img3)\n",
    "cv2.waitKey(0)"
   ]
  },
  {
   "cell_type": "code",
   "execution_count": null,
   "id": "b7cc0a49",
   "metadata": {},
   "outputs": [],
   "source": []
  }
 ],
 "metadata": {
  "kernelspec": {
   "display_name": "Python 3 (ipykernel)",
   "language": "python",
   "name": "python3"
  },
  "language_info": {
   "codemirror_mode": {
    "name": "ipython",
    "version": 3
   },
   "file_extension": ".py",
   "mimetype": "text/x-python",
   "name": "python",
   "nbconvert_exporter": "python",
   "pygments_lexer": "ipython3",
   "version": "3.7.11"
  }
 },
 "nbformat": 4,
 "nbformat_minor": 5
}
